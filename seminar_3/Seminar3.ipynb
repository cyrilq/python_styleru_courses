{
 "cells": [
  {
   "cell_type": "markdown",
   "metadata": {
    "collapsed": true
   },
   "source": [
    "# <h1>ООП. Обработка исключений.</h1>"
   ]
  },
  {
   "cell_type": "markdown",
   "metadata": {},
   "source": [
    "## 1)Основы объектно-ориентированного программирования "
   ]
  },
  {
   "cell_type": "markdown",
   "metadata": {},
   "source": [
    "На этом семинаре, мы приступаем к исследованию классов в языке Python – программных компонентов, используемых для реализации новых типов объектов, поддерживающих наследование. Классы – это основные инструменты объектно-ориентированного программирования (ООП) в языке Python.\n",
    "ООП предлагает другой, часто более эффективный подход к программированию, при котором мы разлагаем программный код на составляющие, чтобы уменьшить его избыточность, и пишем новые программы, адаптируя имеющийся программный код, а не изменяя его.\n",
    "Классы в языке Python создаются с помощью новой для нас инструкции: инструкции class. Как вы увидите, объекты, определяемые с помощью классов, очень напоминают встроенные типы, которые мы изучали ранее в этой книге. В действительности классы лишь применяют и дополняют понятия, которые мы уже рассмотрели. Грубо говоря – они представляют собой пакеты функций, которые в основном используют и обрабатывают объекты встроенных типов. Основное назначение классов состоит в том, чтобы создавать и манипулировать новыми объектами, а кроме того, они поддерживают механизм наследования – совсем иной способ адаптации программного кода и повторного его использования, чем мы рассматривали ранее."
   ]
  },
  {
   "cell_type": "markdown",
   "metadata": {},
   "source": [
    "Самое интересное, что ООП в языке Python проще в изучении и использоваPython проще в изучении и использова проще в изучении и использовании, чем в других языках программирования, таких как C++ и Java. Будучи языком сценариев с динамической типизацией, Python ликвидирует синтакPython ликвидирует синтак ликвидирует синтаксическую перегруженность и сложность, свойственные ООП в других языках"
   ]
  },
  {
   "cell_type": "code",
   "execution_count": 1,
   "metadata": {
    "collapsed": true
   },
   "outputs": [],
   "source": [
    "# Так выглядит самый простой класс в языке Python\n",
    "class A: pass"
   ]
  },
  {
   "cell_type": "code",
   "execution_count": 2,
   "metadata": {
    "collapsed": false
   },
   "outputs": [
    {
     "name": "stdout",
     "output_type": "stream",
     "text": [
      "1\n"
     ]
    }
   ],
   "source": [
    "# теперь мы можем создать экземпляры класса \n",
    "a = A()\n",
    "b = A()\n",
    "a.arg = 1  # у экземпляра a появился атрибут arg, равный 1\n",
    "b.arg = 2  # а у экземпляра b - атрибут arg, равный 2\n",
    "print(a.arg)"
   ]
  },
  {
   "cell_type": "code",
   "execution_count": 3,
   "metadata": {
    "collapsed": false
   },
   "outputs": [
    {
     "data": {
      "text/plain": [
       "'hello world'"
      ]
     },
     "execution_count": 3,
     "metadata": {},
     "output_type": "execute_result"
    }
   ],
   "source": [
    "# мы можем добавлять функции в классы \n",
    "class A:\n",
    "    def g(self): # self - обязательный аргумент, содержащий в себе экземпляр\n",
    "                 # класса, передающийся при вызове метода,\n",
    "                 # поэтому этот аргумент должен присутствовать\n",
    "                 # во всех методах класса.\n",
    "        return 'hello world'\n",
    "\n",
    "a = A()\n",
    "a.g()"
   ]
  },
  {
   "cell_type": "markdown",
   "metadata": {},
   "source": [
    "Чтобы точно разобрать основные идеи ООП мы создадим небольшую программу, которая будет моделировать один день работы в HR-агенстве(это пригодится вам в итоговом проекте)"
   ]
  },
  {
   "cell_type": "markdown",
   "metadata": {
    "collapsed": true
   },
   "source": [
    "## 2)Обработка исключений"
   ]
  },
  {
   "cell_type": "markdown",
   "metadata": {},
   "source": [
    "Исключения (exceptions) - ещё один тип данных в python. Исключения необходимы для того, чтобы сообщать программисту об ошибках."
   ]
  },
  {
   "cell_type": "markdown",
   "metadata": {},
   "source": [
    "В языке Python используются три основные конструкции для обработки исключений:"
   ]
  },
  {
   "cell_type": "code",
   "execution_count": 1,
   "metadata": {
    "collapsed": false
   },
   "outputs": [
    {
     "name": "stdout",
     "output_type": "stream",
     "text": [
      "0\n"
     ]
    }
   ],
   "source": [
    "# try/except \n",
    "try:\n",
    "    k = 1 / 0\n",
    "except ArithmeticError:\n",
    "    k = 0\n",
    "\n",
    "print(k)"
   ]
  },
  {
   "cell_type": "code",
   "execution_count": 2,
   "metadata": {
    "collapsed": false
   },
   "outputs": [
    {
     "name": "stdout",
     "output_type": "stream",
     "text": [
      "ok\n"
     ]
    }
   ],
   "source": [
    "# try/except/else\n",
    "try:\n",
    "    k = 21*23\n",
    "except ArithmeticError:\n",
    "     print('Error')\n",
    "else:\n",
    "     print('ok')"
   ]
  },
  {
   "cell_type": "code",
   "execution_count": 4,
   "metadata": {
    "collapsed": false
   },
   "outputs": [
    {
     "name": "stdout",
     "output_type": "stream",
     "text": [
      "Error found\n",
      "OK\n"
     ]
    }
   ],
   "source": [
    "# try/except/finally\n",
    "try:\n",
    "    arr = [1, 2]\n",
    "    print(arr[2])\n",
    "except IndexError:\n",
    "    print(\"Error found\")\n",
    "finally:\n",
    "    print(\"OK\")"
   ]
  },
  {
   "cell_type": "raw",
   "metadata": {},
   "source": [
    "Кроме этого вы можете возбуждать исключения с помощью инструкции raise:"
   ]
  },
  {
   "cell_type": "code",
   "execution_count": 5,
   "metadata": {
    "collapsed": false
   },
   "outputs": [
    {
     "name": "stdout",
     "output_type": "stream",
     "text": [
      "Exception\n"
     ]
    }
   ],
   "source": [
    "# здесь будет описан не самый полезный код в мире, но он поможет вам понять процесс возбуждения исключений\n",
    "try:\n",
    "    raise IndexError   # Возбуждает исключение вручную\n",
    "except IndexError:\n",
    "    print('Exception')"
   ]
  },
  {
   "cell_type": "code",
   "execution_count": null,
   "metadata": {
    "collapsed": true
   },
   "outputs": [],
   "source": []
  }
 ],
 "metadata": {
  "anaconda-cloud": {},
  "kernelspec": {
   "display_name": "Python 3",
   "language": "python",
   "name": "python3"
  },
  "language_info": {
   "codemirror_mode": {
    "name": "ipython",
    "version": 3
   },
   "file_extension": ".py",
   "mimetype": "text/x-python",
   "name": "python",
   "nbconvert_exporter": "python",
   "pygments_lexer": "ipython3",
   "version": "3.5.2"
  }
 },
 "nbformat": 4,
 "nbformat_minor": 0
}
