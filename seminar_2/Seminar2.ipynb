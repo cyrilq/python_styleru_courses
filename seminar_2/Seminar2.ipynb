{
 "cells": [
  {
   "cell_type": "markdown",
   "metadata": {},
   "source": [
    "# Семинар 2."
   ]
  },
  {
   "cell_type": "markdown",
   "metadata": {},
   "source": [
    "## Списки. Словари. Кортежи. Функции."
   ]
  },
  {
   "cell_type": "markdown",
   "metadata": {},
   "source": [
    "### 1)Списки"
   ]
  },
  {
   "cell_type": "markdown",
   "metadata": {},
   "source": [
    "Списки в Python - упорядоченные изменяемые коллекции объектов произвольных типов (почти как массив, но типы могут отличаться)."
   ]
  },
  {
   "cell_type": "markdown",
   "metadata": {},
   "source": [
    "Чтобы создать есть несколько способов создать список:"
   ]
  },
  {
   "cell_type": "code",
   "execution_count": 4,
   "metadata": {
    "collapsed": false
   },
   "outputs": [
    {
     "name": "stdout",
     "output_type": "stream",
     "text": [
      "['a', 'r', 'r', 'a', 'y']\n"
     ]
    }
   ],
   "source": [
    "arr = list(\"array\")\n",
    "print(arr)"
   ]
  },
  {
   "cell_type": "code",
   "execution_count": 7,
   "metadata": {
    "collapsed": false
   },
   "outputs": [
    {
     "name": "stdout",
     "output_type": "stream",
     "text": [
      "['-1', '2', '3', '4']\n"
     ]
    }
   ],
   "source": [
    "arr = [\"1\", \"2\", \"3\", \"4\"]\n",
    "arr[0] = \"-1\"\n",
    "print(arr)"
   ]
  },
  {
   "cell_type": "code",
   "execution_count": 8,
   "metadata": {
    "collapsed": false
   },
   "outputs": [
    {
     "name": "stdout",
     "output_type": "stream",
     "text": [
      "['1', '2', '3', '4']\n"
     ]
    }
   ],
   "source": [
    "arr = [str(i + 1) for i in range(4)]\n",
    "print(arr)"
   ]
  },
  {
   "cell_type": "markdown",
   "metadata": {},
   "source": [
    "Основные методы списков:"
   ]
  },
  {
   "cell_type": "code",
   "execution_count": 28,
   "metadata": {
    "collapsed": false
   },
   "outputs": [
    {
     "name": "stdout",
     "output_type": "stream",
     "text": [
      "['2', '4', '6', '8']\n",
      "['0', '2', '4', '6', '8', '10']\n",
      "['0', '2', '8', '10']\n",
      "['10', '8', '2', '0']\n",
      "1\n",
      "1\n",
      "['10', '8', '2', '0']\n",
      "[]\n",
      "['10', '8', '2', '0']\n"
     ]
    }
   ],
   "source": [
    "#создание списка итератором\n",
    "arr = [str(i+1) for i in range(8) if (i+1)%2 == 0 ]\n",
    "print(arr)\n",
    "\n",
    "arr.append('10')\n",
    "arr.insert(0, '0')\n",
    "print(arr)\n",
    "arr.remove('6')\n",
    "arr.pop(2)\n",
    "print(arr)\n",
    "arr.reverse()\n",
    "print(arr)\n",
    "print(arr.index('8'))\n",
    "print(arr.index('8', 1, 2))\n",
    "arr1 = arr.copy()\n",
    "print(arr1)\n",
    "arr.clear()\n",
    "print(arr)\n",
    "print(arr1)"
   ]
  },
  {
   "cell_type": "markdown",
   "metadata": {},
   "source": [
    "### 2)Словари"
   ]
  },
  {
   "cell_type": "markdown",
   "metadata": {},
   "source": [
    "Словари в Python - неупорядоченные коллекции произвольных объектов с доступом по ключу. Их иногда ещё называют ассоциативными массивами или хеш-таблицами."
   ]
  },
  {
   "cell_type": "markdown",
   "metadata": {},
   "source": [
    "Есть несколько способов создать словарь:"
   ]
  },
  {
   "cell_type": "code",
   "execution_count": 30,
   "metadata": {
    "collapsed": false
   },
   "outputs": [
    {
     "name": "stdout",
     "output_type": "stream",
     "text": [
      "{'1': 1, '2': 2}\n"
     ]
    }
   ],
   "source": [
    "d = {}\n",
    "d = {'1':1, '2':2}\n",
    "print(d)"
   ]
  },
  {
   "cell_type": "code",
   "execution_count": 35,
   "metadata": {
    "collapsed": false
   },
   "outputs": [
    {
     "name": "stdout",
     "output_type": "stream",
     "text": [
      "{'value': 2, 'key': 1}\n",
      "{'1': 1, '2': 2}\n"
     ]
    }
   ],
   "source": [
    "d = {}\n",
    "d = dict(key = 1, value = 2)\n",
    "print(d)\n",
    "d = dict([('1', 1), ('2', 2)])\n",
    "print(d)"
   ]
  },
  {
   "cell_type": "code",
   "execution_count": 37,
   "metadata": {
    "collapsed": false
   },
   "outputs": [
    {
     "name": "stdout",
     "output_type": "stream",
     "text": [
      "{'1': 1, '2': 1}\n"
     ]
    }
   ],
   "source": [
    "d = dict.fromkeys(['1',  '2'], 1)\n",
    "print(d)"
   ]
  },
  {
   "cell_type": "code",
   "execution_count": 38,
   "metadata": {
    "collapsed": false
   },
   "outputs": [
    {
     "name": "stdout",
     "output_type": "stream",
     "text": [
      "{'2': 2, '4': 4, '0': 0, '6': 6}\n"
     ]
    }
   ],
   "source": [
    "d = {str(a): a for a in range(8) if a % 2 == 0}\n",
    "print(d)"
   ]
  },
  {
   "cell_type": "code",
   "execution_count": 40,
   "metadata": {
    "collapsed": false
   },
   "outputs": [
    {
     "name": "stdout",
     "output_type": "stream",
     "text": [
      "{'1': 1, '2': 2, '3': 3}\n"
     ]
    }
   ],
   "source": [
    "d = {}\n",
    "d['1'] = 1\n",
    "d['2'] = 2\n",
    "d['3'] = 3\n",
    "print(d)"
   ]
  },
  {
   "cell_type": "markdown",
   "metadata": {},
   "source": [
    "Основные методы словарей"
   ]
  },
  {
   "cell_type": "code",
   "execution_count": 56,
   "metadata": {
    "collapsed": false
   },
   "outputs": [
    {
     "name": "stdout",
     "output_type": "stream",
     "text": [
      "{'b': 'bb', 'a': 'aa', 'c': 'cc'}\n",
      "cc\n",
      "None\n",
      "dict_items([('b', 'bb'), ('a', 'aa'), ('c', 'cc')])\n",
      "dict_keys(['b', 'a', 'c'])\n",
      "dict_values(['bb', 'aa', 'cc'])\n",
      "cc\n",
      "None\n",
      "aa\n",
      "{'b': 'bb', 'c': 'cc', 'd': None}\n",
      "{}\n",
      "{'b': 'bb', 'a': 'aa', 'c': 'cc', 'd': None}\n"
     ]
    }
   ],
   "source": [
    "d = {a: a * 2 for a in \"abc\"}\n",
    "print(d)\n",
    "print(d.get('c'))\n",
    "print(d.get('d'))\n",
    "print(d.items())\n",
    "print(d.keys())\n",
    "print(d.values())\n",
    "print(d.setdefault('c'))\n",
    "print(d.setdefault('d'))\n",
    "d1 = d.copy()\n",
    "print(d.pop('a'))\n",
    "print(d)\n",
    "d.clear()\n",
    "print(d)\n",
    "print(d1)"
   ]
  },
  {
   "cell_type": "markdown",
   "metadata": {},
   "source": [
    "### 3) Кортежи(tuple)"
   ]
  },
  {
   "cell_type": "markdown",
   "metadata": {},
   "source": [
    "Есть несколько способов создавать кортежи:"
   ]
  },
  {
   "cell_type": "code",
   "execution_count": 59,
   "metadata": {
    "collapsed": false
   },
   "outputs": [
    {
     "name": "stdout",
     "output_type": "stream",
     "text": [
      "('h', 'e', 'l', 'l', 'o')\n"
     ]
    }
   ],
   "source": [
    "k = tuple(\"hello\")\n",
    "print(k)"
   ]
  },
  {
   "cell_type": "code",
   "execution_count": 60,
   "metadata": {
    "collapsed": false
   },
   "outputs": [
    {
     "name": "stdout",
     "output_type": "stream",
     "text": [
      "(1, 2, 3)\n"
     ]
    }
   ],
   "source": [
    "k = 1, 2, 3\n",
    "print(k)"
   ]
  },
  {
   "cell_type": "markdown",
   "metadata": {},
   "source": [
    "Прежде чем мы разберем основные методы для работы с кортежами, давайте разберемся зачем они нужны. Главный плюс кортежей в том, что их можно использовать как ключ в словаре"
   ]
  },
  {
   "cell_type": "code",
   "execution_count": 61,
   "metadata": {
    "collapsed": false
   },
   "outputs": [
    {
     "name": "stdout",
     "output_type": "stream",
     "text": [
      "{('a', 'b', 'c'): 'the first three letters in the English alphabet'}\n"
     ]
    }
   ],
   "source": [
    "d = {('a', 'b', 'c') :\n",
    "     'the first three letters in the English alphabet'}\n",
    "print(d)\n",
    "d = {['a', 'b', 'c'] :\n",
    "     'the first three letters in the English alphabet'}"
   ]
  },
  {
   "cell_type": "code",
   "execution_count": null,
   "metadata": {
    "collapsed": true
   },
   "outputs": [],
   "source": []
  }
 ],
 "metadata": {
  "kernelspec": {
   "display_name": "Python 3",
   "language": "python",
   "name": "python3"
  },
  "language_info": {
   "codemirror_mode": {
    "name": "ipython",
    "version": 3
   },
   "file_extension": ".py",
   "mimetype": "text/x-python",
   "name": "python",
   "nbconvert_exporter": "python",
   "pygments_lexer": "ipython3",
   "version": "3.4.3"
  }
 },
 "nbformat": 4,
 "nbformat_minor": 1
}
