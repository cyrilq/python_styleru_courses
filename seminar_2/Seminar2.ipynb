{
 "cells": [
  {
   "cell_type": "markdown",
   "metadata": {},
   "source": [
    "# Семинар 2."
   ]
  },
  {
   "cell_type": "markdown",
   "metadata": {},
   "source": [
    "## Списки. Словари. Кортежи. Функции."
   ]
  },
  {
   "cell_type": "markdown",
   "metadata": {},
   "source": [
    "### 1)Списки"
   ]
  },
  {
   "cell_type": "markdown",
   "metadata": {},
   "source": [
    "Списки в Python - упорядоченные изменяемые коллекции объектов произвольных типов (почти как массив, но типы могут отличаться)."
   ]
  },
  {
   "cell_type": "markdown",
   "metadata": {},
   "source": [
    "Чтобы создать есть несколько способов создать список:"
   ]
  },
  {
   "cell_type": "code",
   "execution_count": 4,
   "metadata": {
    "collapsed": false
   },
   "outputs": [
    {
     "name": "stdout",
     "output_type": "stream",
     "text": [
      "['a', 'r', 'r', 'a', 'y']\n"
     ]
    }
   ],
   "source": [
    "arr = list(\"array\")\n",
    "print(arr)"
   ]
  },
  {
   "cell_type": "code",
   "execution_count": 7,
   "metadata": {
    "collapsed": false
   },
   "outputs": [
    {
     "name": "stdout",
     "output_type": "stream",
     "text": [
      "['-1', '2', '3', '4']\n"
     ]
    }
   ],
   "source": [
    "arr = [\"1\", \"2\", \"3\", \"4\"]\n",
    "arr[0] = \"-1\"\n",
    "print(arr)"
   ]
  },
  {
   "cell_type": "code",
   "execution_count": 8,
   "metadata": {
    "collapsed": false
   },
   "outputs": [
    {
     "name": "stdout",
     "output_type": "stream",
     "text": [
      "['1', '2', '3', '4']\n"
     ]
    }
   ],
   "source": [
    "arr = [str(i + 1) for i in range(4)]\n",
    "print(arr)"
   ]
  },
  {
   "cell_type": "markdown",
   "metadata": {},
   "source": [
    "Основные методы списков:"
   ]
  },
  {
   "cell_type": "code",
   "execution_count": 28,
   "metadata": {
    "collapsed": false
   },
   "outputs": [
    {
     "name": "stdout",
     "output_type": "stream",
     "text": [
      "['2', '4', '6', '8']\n",
      "['0', '2', '4', '6', '8', '10']\n",
      "['0', '2', '8', '10']\n",
      "['10', '8', '2', '0']\n",
      "1\n",
      "1\n",
      "['10', '8', '2', '0']\n",
      "[]\n",
      "['10', '8', '2', '0']\n"
     ]
    }
   ],
   "source": [
    "#создание списка итератором\n",
    "arr = [str(i+1) for i in range(8) if (i+1)%2 == 0 ]\n",
    "print(arr)\n",
    "\n",
    "arr.append('10')\n",
    "arr.insert(0, '0')\n",
    "print(arr)\n",
    "arr.remove('6')\n",
    "arr.pop(2)\n",
    "print(arr)\n",
    "arr.reverse()\n",
    "print(arr)\n",
    "print(arr.index('8'))\n",
    "print(arr.index('8', 1, 2))\n",
    "arr1 = arr.copy()\n",
    "print(arr1)\n",
    "arr.clear()\n",
    "print(arr)\n",
    "print(arr1)"
   ]
  },
  {
   "cell_type": "markdown",
   "metadata": {},
   "source": [
    "### 2)Словари"
   ]
  },
  {
   "cell_type": "markdown",
   "metadata": {},
   "source": [
    "Словари в Python - неупорядоченные коллекции произвольных объектов с доступом по ключу. Их иногда ещё называют ассоциативными массивами или хеш-таблицами."
   ]
  },
  {
   "cell_type": "markdown",
   "metadata": {},
   "source": [
    "Есть несколько способов создать словарь:"
   ]
  },
  {
   "cell_type": "code",
   "execution_count": 30,
   "metadata": {
    "collapsed": false
   },
   "outputs": [
    {
     "name": "stdout",
     "output_type": "stream",
     "text": [
      "{'1': 1, '2': 2}\n"
     ]
    }
   ],
   "source": [
    "d = {}\n",
    "d = {'1':1, '2':2}\n",
    "print(d)"
   ]
  },
  {
   "cell_type": "code",
   "execution_count": 35,
   "metadata": {
    "collapsed": false
   },
   "outputs": [
    {
     "name": "stdout",
     "output_type": "stream",
     "text": [
      "{'value': 2, 'key': 1}\n",
      "{'1': 1, '2': 2}\n"
     ]
    }
   ],
   "source": [
    "d = {}\n",
    "d = dict(key = 1, value = 2)\n",
    "print(d)\n",
    "d = dict([('1', 1), ('2', 2)])\n",
    "print(d)"
   ]
  },
  {
   "cell_type": "code",
   "execution_count": 37,
   "metadata": {
    "collapsed": false
   },
   "outputs": [
    {
     "name": "stdout",
     "output_type": "stream",
     "text": [
      "{'1': 1, '2': 1}\n"
     ]
    }
   ],
   "source": [
    "d = dict.fromkeys(['1',  '2'], 1)\n",
    "print(d)"
   ]
  },
  {
   "cell_type": "code",
   "execution_count": 38,
   "metadata": {
    "collapsed": false
   },
   "outputs": [
    {
     "name": "stdout",
     "output_type": "stream",
     "text": [
      "{'2': 2, '4': 4, '0': 0, '6': 6}\n"
     ]
    }
   ],
   "source": [
    "d = {str(a): a for a in range(8) if a % 2 == 0}\n",
    "print(d)"
   ]
  },
  {
   "cell_type": "code",
   "execution_count": 40,
   "metadata": {
    "collapsed": false
   },
   "outputs": [
    {
     "name": "stdout",
     "output_type": "stream",
     "text": [
      "{'1': 1, '2': 2, '3': 3}\n"
     ]
    }
   ],
   "source": [
    "d = {}\n",
    "d['1'] = 1\n",
    "d['2'] = 2\n",
    "d['3'] = 3\n",
    "print(d)"
   ]
  },
  {
   "cell_type": "markdown",
   "metadata": {},
   "source": [
    "Основные методы словарей"
   ]
  },
  {
   "cell_type": "code",
   "execution_count": 56,
   "metadata": {
    "collapsed": false
   },
   "outputs": [
    {
     "name": "stdout",
     "output_type": "stream",
     "text": [
      "{'b': 'bb', 'a': 'aa', 'c': 'cc'}\n",
      "cc\n",
      "None\n",
      "dict_items([('b', 'bb'), ('a', 'aa'), ('c', 'cc')])\n",
      "dict_keys(['b', 'a', 'c'])\n",
      "dict_values(['bb', 'aa', 'cc'])\n",
      "cc\n",
      "None\n",
      "aa\n",
      "{'b': 'bb', 'c': 'cc', 'd': None}\n",
      "{}\n",
      "{'b': 'bb', 'a': 'aa', 'c': 'cc', 'd': None}\n"
     ]
    }
   ],
   "source": [
    "d = {a: a * 2 for a in \"abc\"}\n",
    "print(d)\n",
    "print(d.get('c'))\n",
    "print(d.get('d'))\n",
    "print(d.items())\n",
    "print(d.keys())\n",
    "print(d.values())\n",
    "print(d.setdefault('c'))\n",
    "print(d.setdefault('d'))\n",
    "d1 = d.copy()\n",
    "print(d.pop('a'))\n",
    "print(d)\n",
    "d.clear()\n",
    "print(d)\n",
    "print(d1)"
   ]
  },
  {
   "cell_type": "markdown",
   "metadata": {},
   "source": [
    "### 3) Кортежи(tuple)"
   ]
  },
  {
   "cell_type": "markdown",
   "metadata": {},
   "source": [
    "Есть несколько способов создавать кортежи:"
   ]
  },
  {
   "cell_type": "code",
   "execution_count": 59,
   "metadata": {
    "collapsed": false
   },
   "outputs": [
    {
     "name": "stdout",
     "output_type": "stream",
     "text": [
      "('h', 'e', 'l', 'l', 'o')\n"
     ]
    }
   ],
   "source": [
    "k = tuple(\"hello\")\n",
    "print(k)"
   ]
  },
  {
   "cell_type": "code",
   "execution_count": 60,
   "metadata": {
    "collapsed": false
   },
   "outputs": [
    {
     "name": "stdout",
     "output_type": "stream",
     "text": [
      "(1, 2, 3)\n"
     ]
    }
   ],
   "source": [
    "k = 1, 2, 3\n",
    "print(k)"
   ]
  },
  {
   "cell_type": "markdown",
   "metadata": {},
   "source": [
    " Прежде чем мы разберем основные методы для работы с кортежами, давайте разберемся зачем они нужны. Главный плюс кортежей в том, что их можно использовать как ключ в словаре"
   ]
  },
  {
   "cell_type": "code",
   "execution_count": 61,
   "metadata": {
    "collapsed": false
   },
   "outputs": [
    {
     "name": "stdout",
     "output_type": "stream",
     "text": [
      "{('a', 'b', 'c'): 'the first three letters in the English alphabet'}\n"
     ]
    }
   ],
   "source": [
    "d = {('a', 'b', 'c') :\n",
    "     'the first three letters in the English alphabet'}\n",
    "print(d)\n",
    "d = {['a', 'b', 'c'] :\n",
    "     'the first three letters in the English alphabet'}"
   ]
  },
  {
   "cell_type": "markdown",
   "metadata": {
    "collapsed": true
   },
   "source": [
    "### 4) Функции"
   ]
  },
  {
   "cell_type": "markdown",
   "metadata": {},
   "source": [
    "Скорее всего вы уже сталкивались с функциями в других языках программирования и знаете, что это такое. Напомним лишь, что функция – это средство, позволяющее группировать наборы инструкций так, что в программе они могут запускаться неоднократно. Функции – это еще и средство проектирования, которое позволяет разбить сложную систему на достаточно простые и легко управляемые части. "
   ]
  },
  {
   "cell_type": "markdown",
   "metadata": {},
   "source": [
    "Чтобы разобратся с функциями в языке Python нобходимо понимать 4 основные концепции которые с ними связаны:<br>\n",
    "<ol>\n",
    "<li>Области видимости</li>\n",
    "<li>Передача аргументов</li>\n",
    "<li> lambda-выражения</li>\n",
    "<li>Итераторы и генераторы</li>\n",
    "</ol>"
   ]
  },
  {
   "cell_type": "markdown",
   "metadata": {},
   "source": [
    "#### 1)Области видимости"
   ]
  },
  {
   "cell_type": "markdown",
   "metadata": {},
   "source": [
    "Имена, определяемые внутри инструкции def, видны только программному коду внутри инструкции def. К этим именам нельзя обратиться за пределами функции."
   ]
  },
  {
   "cell_type": "markdown",
   "metadata": {},
   "source": [
    "Чтобы разобраться с областями видимости нужно просто усвоить 3 правила: <br>\n",
    "<ul>\n",
    "<li>Поиск имен ведется самое большее в четырех областях видимости: локальной, затем в объемлющей функции (если таковая имеется), затем в глобальной и, наконец, во встроенной.</li>\n",
    "<li>По умолчанию операция присваивания создает локальные имена.</li>\n",
    "<li>Объявления global и nonlocal отображают имена на область видимости вмещающего модуля и функции соответственно.</li>\n",
    "</ul>"
   ]
  },
  {
   "cell_type": "code",
   "execution_count": 1,
   "metadata": {
    "collapsed": false
   },
   "outputs": [
    {
     "name": "stdout",
     "output_type": "stream",
     "text": [
      "Spam\n"
     ]
    }
   ],
   "source": [
    "X = 'Spam'\n",
    "def func():\n",
    "    X ='NI!'\n",
    "    \n",
    "func()\n",
    "print(X)\n",
    "#что будет напечатано ?"
   ]
  },
  {
   "cell_type": "code",
   "execution_count": 2,
   "metadata": {
    "collapsed": false
   },
   "outputs": [
    {
     "name": "stdout",
     "output_type": "stream",
     "text": [
      "NI\n",
      "Spam\n"
     ]
    }
   ],
   "source": [
    "X = 'Spam'\n",
    "def func():\n",
    "    X = 'NI'\n",
    "    print(X)\n",
    "\n",
    "func()\n",
    "print(X)\n",
    "#что будет напечатано ?"
   ]
  },
  {
   "cell_type": "code",
   "execution_count": 3,
   "metadata": {
    "collapsed": false
   },
   "outputs": [
    {
     "name": "stdout",
     "output_type": "stream",
     "text": [
      "NI\n"
     ]
    }
   ],
   "source": [
    "X = 'Spam'\n",
    "def func():\n",
    "    global X\n",
    "    X = 'NI'\n",
    "    \n",
    "func()\n",
    "print(X)\n",
    "#что будет напечатано ?"
   ]
  },
  {
   "cell_type": "code",
   "execution_count": 5,
   "metadata": {
    "collapsed": false
   },
   "outputs": [
    {
     "name": "stdout",
     "output_type": "stream",
     "text": [
      "NI\n"
     ]
    }
   ],
   "source": [
    "def func():\n",
    "    X = 'NI'\n",
    "    def nested():\n",
    "        nonlocal X\n",
    "        X = 'Spam'\n",
    "    nested()\n",
    "    \n",
    "print(X)\n",
    "func()\n",
    "#что будет напечатано ?"
   ]
  },
  {
   "cell_type": "markdown",
   "metadata": {},
   "source": [
    "#### 2)Передача аргументов"
   ]
  },
  {
   "cell_type": "markdown",
   "metadata": {},
   "source": [
    "Аргументы передаются функции через операцию присваивания, то есть в виде ссылок на объекты, которые в действительности являются указателями."
   ]
  },
  {
   "cell_type": "markdown",
   "metadata": {},
   "source": [
    "Чтобы разобраться с передачей аргументов функциям необходимо просто усвоить основные типы передачи аргументов функций:\n",
    "<i>\n",
    "<ol>\n",
    "<li>Сопоставление по позиции: значения и имена ставятся в соответствие по  порядку, слева направо</li>\n",
    "<li>Сопоставление по именам: соответствие определяется по указанным именам аргументов</li>\n",
    "<li>Значения по умолчанию: указываются значения аргументов, которые могут  не передаваться </li>\n",
    "<li>Переменное число аргументов: прием произвольного числа аргументов, позиционных или именованных</li>\n",
    "<li>Переменное число аргументов: передача произвольного числа аргументов, позиционных или именованных</li>\n",
    "<li>Только именованные аргументы: аргументы, которые должны передаваться  только по имени </li>\n",
    "</ol>\n",
    "</i>"
   ]
  },
  {
   "cell_type": "markdown",
   "metadata": {},
   "source": [
    "Чтобы разобраться в этих принципах рассмотрим практические примеры:"
   ]
  },
  {
   "cell_type": "code",
   "execution_count": 6,
   "metadata": {
    "collapsed": false
   },
   "outputs": [
    {
     "name": "stdout",
     "output_type": "stream",
     "text": [
      "1 2 5\n"
     ]
    }
   ],
   "source": [
    "def func(a, b=4, c=5):\n",
    "    print(a, b, c)\n",
    "    \n",
    "func(1, 2)\n",
    "#что будет напечатано ?"
   ]
  },
  {
   "cell_type": "code",
   "execution_count": 7,
   "metadata": {
    "collapsed": false
   },
   "outputs": [
    {
     "name": "stdout",
     "output_type": "stream",
     "text": [
      "1 2 3\n"
     ]
    }
   ],
   "source": [
    "def func(a, b, c=5):\n",
    "    print(a, b, c)\n",
    "    \n",
    "func(1, c=3, b=2)\n",
    "#что будет напечатано ?"
   ]
  },
  {
   "cell_type": "code",
   "execution_count": 8,
   "metadata": {
    "collapsed": false
   },
   "outputs": [
    {
     "name": "stdout",
     "output_type": "stream",
     "text": [
      "1 (2, 3)\n"
     ]
    }
   ],
   "source": [
    "def func(a, *pargs):\n",
    "    print(a, pargs)\n",
    "    \n",
    "func(1, 2, 3)\n",
    "#что будет напечатано ?"
   ]
  },
  {
   "cell_type": "code",
   "execution_count": 9,
   "metadata": {
    "collapsed": false
   },
   "outputs": [
    {
     "name": "stdout",
     "output_type": "stream",
     "text": [
      "1 {'b': 2, 'c': 3}\n"
     ]
    }
   ],
   "source": [
    "def func(a, **kargs):\n",
    "    print(a, kargs)\n",
    "    \n",
    "func(a=1, c=3, b=2)\n",
    "#что будет напечатано ?"
   ]
  },
  {
   "cell_type": "code",
   "execution_count": 10,
   "metadata": {
    "collapsed": false
   },
   "outputs": [
    {
     "name": "stdout",
     "output_type": "stream",
     "text": [
      "1 5 6 4\n"
     ]
    }
   ],
   "source": [
    "def func(a, b, c=3, d=4): \n",
    "    print(a, b, c, d)\n",
    "\n",
    "func(1, *(5,6))\n",
    "#что будет напечатано ?"
   ]
  },
  {
   "cell_type": "markdown",
   "metadata": {},
   "source": [
    "#### 3)lambda-выражения"
   ]
  },
  {
   "cell_type": "markdown",
   "metadata": {},
   "source": [
    "Помимо инструкции def в языке Python имеется возможность создавать объекты функций в форме выражений. Из-за сходства с аналогичной возможностью в языке LISP она получила название lambda1. Подобно инструкции def это выражение создает функцию, которая будет вызываться позднее, но в отличие от инструкции def, выражение возвращает функцию, а не связывает ее с именем. Именно поэтому lambda-выражения иногда называют анонимными (то есть безымянными) функциями. На практике они часто используются, как способ получить встроенную функцию или отложить выполнение фрагмента программного кода."
   ]
  },
  {
   "cell_type": "markdown",
   "metadata": {},
   "source": [
    "Чтобы разобраться как они работают разберем 2 конкретных примера:"
   ]
  },
  {
   "cell_type": "code",
   "execution_count": 13,
   "metadata": {
    "collapsed": false
   },
   "outputs": [
    {
     "name": "stdout",
     "output_type": "stream",
     "text": [
      "4\n",
      "8\n",
      "16\n",
      "9\n"
     ]
    }
   ],
   "source": [
    "L = [lambda x: x**2,\n",
    "     lambda x: x**3,\n",
    "     lambda x: x**4]   # Список из трех функций\n",
    " \n",
    "for f in L:    \n",
    "    print(f(2))        \n",
    " \n",
    "print(L[0](3)) \n",
    "# Что будет выведено ?"
   ]
  },
  {
   "cell_type": "code",
   "execution_count": 14,
   "metadata": {
    "collapsed": false
   },
   "outputs": [
    {
     "data": {
      "text/plain": [
       "8"
      ]
     },
     "execution_count": 14,
     "metadata": {},
     "output_type": "execute_result"
    }
   ],
   "source": [
    "key = 'got'\n",
    "{'already': (lambda: 2 + 2),\n",
    " 'got':     (lambda: 2 * 4), \n",
    " 'one':     (lambda: 2 ** 6)}[key]()"
   ]
  },
  {
   "cell_type": "markdown",
   "metadata": {},
   "source": [
    "#### 4)Итераторы и генераторы"
   ]
  },
  {
   "cell_type": "markdown",
   "metadata": {},
   "source": [
    "В языке python существуют функции map и filter, выполняющие отображение операций на последовательности и сбор результатов. Это стало настолько распространенной задачей в программировании на языке Python, что в нем появилась новая особенность – генераторы списков, которые упрощают решение задач еще больше, чем эти функции."
   ]
  },
  {
   "cell_type": "markdown",
   "metadata": {},
   "source": [
    "Давайте разберемся зачем нужны эти генераторы на конкретном примере:"
   ]
  },
  {
   "cell_type": "code",
   "execution_count": 18,
   "metadata": {
    "collapsed": false
   },
   "outputs": [
    {
     "name": "stdout",
     "output_type": "stream",
     "text": [
      "[[2, 4, 6], [12, 15, 18], [28, 32, 36]]\n"
     ]
    }
   ],
   "source": [
    "M = [[1, 2, 3],\n",
    "     [4, 5, 6],\n",
    "     [7, 8, 9]]\n",
    "\n",
    "N = [[2, 2, 2],\n",
    "     [3, 3, 3],\n",
    "     [4, 4, 4]]\n",
    "\n",
    "res = []\n",
    "for row in range(3):\n",
    "    tmp = []\n",
    "    for col in range(3):\n",
    "        tmp.append(M[row][col] * N[row][col])\n",
    "    res.append(tmp)\n",
    "        \n",
    "print(res)"
   ]
  },
  {
   "cell_type": "code",
   "execution_count": 19,
   "metadata": {
    "collapsed": false
   },
   "outputs": [
    {
     "name": "stdout",
     "output_type": "stream",
     "text": [
      "[[2, 4, 6], [12, 15, 18], [28, 32, 36]]\n"
     ]
    }
   ],
   "source": [
    "M = [[1, 2, 3],\n",
    "     [4, 5, 6],\n",
    "     [7, 8, 9]]\n",
    "\n",
    "N = [[2, 2, 2],\n",
    "     [3, 3, 3],\n",
    "     [4, 4, 4]]\n",
    "\n",
    "res = [[M[row][col] * N[row][col] for col in range(3)] for row in range(3)]\n",
    "        \n",
    "print(res)"
   ]
  },
  {
   "cell_type": "markdown",
   "metadata": {},
   "source": [
    "Как видно из этого примера генераторы функций намного компактнее и быстрее по времени чем простые циклы."
   ]
  },
  {
   "cell_type": "code",
   "execution_count": null,
   "metadata": {
    "collapsed": true
   },
   "outputs": [],
   "source": []
  }
 ],
 "metadata": {
  "kernelspec": {
   "display_name": "Python 3",
   "language": "python",
   "name": "python3"
  },
  "language_info": {
   "codemirror_mode": {
    "name": "ipython",
    "version": 3
   },
   "file_extension": ".py",
   "mimetype": "text/x-python",
   "name": "python",
   "nbconvert_exporter": "python",
   "pygments_lexer": "ipython3",
   "version": "3.4.3"
  }
 },
 "nbformat": 4,
 "nbformat_minor": 0
}
