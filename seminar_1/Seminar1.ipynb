{
 "cells": [
  {
   "cell_type": "markdown",
   "metadata": {},
   "source": [
    "# Курс по языку Python."
   ]
  },
  {
   "cell_type": "markdown",
   "metadata": {},
   "source": [
    "## Первый семинар"
   ]
  },
  {
   "cell_type": "code",
   "execution_count": 4,
   "metadata": {
    "collapsed": true
   },
   "outputs": [],
   "source": [
    "# Однострочные комментарии начинаюся со знака #"
   ]
  },
  {
   "cell_type": "code",
   "execution_count": 5,
   "metadata": {
    "collapsed": false
   },
   "outputs": [
    {
     "data": {
      "text/plain": [
       "' Многострочные комменты можно писать\\n    через три кавычки,\\n    двойные или одинарные\\n'"
      ]
     },
     "execution_count": 5,
     "metadata": {},
     "output_type": "execute_result"
    }
   ],
   "source": [
    "\"\"\" Многострочные комменты можно писать\n",
    "    через три кавычки,\n",
    "    двойные или одинарные\n",
    "\"\"\""
   ]
  },
  {
   "cell_type": "markdown",
   "metadata": {},
   "source": [
    "## 1. Базовые типы и операции "
   ]
  },
  {
   "cell_type": "code",
   "execution_count": 6,
   "metadata": {
    "collapsed": false
   },
   "outputs": [
    {
     "data": {
      "text/plain": [
       "3"
      ]
     },
     "execution_count": 6,
     "metadata": {},
     "output_type": "execute_result"
    }
   ],
   "source": [
    "# Числа\n",
    "3  # => 3"
   ]
  },
  {
   "cell_type": "code",
   "execution_count": 7,
   "metadata": {
    "collapsed": false
   },
   "outputs": [
    {
     "data": {
      "text/plain": [
       "20"
      ]
     },
     "execution_count": 7,
     "metadata": {},
     "output_type": "execute_result"
    }
   ],
   "source": [
    "# Математика работает стандартно\n",
    "1 + 1   # => 2\n",
    "8 - 1   # => 7\n",
    "10 * 2  # => 20"
   ]
  },
  {
   "cell_type": "code",
   "execution_count": 8,
   "metadata": {
    "collapsed": false
   },
   "outputs": [
    {
     "data": {
      "text/plain": [
       "7.0"
      ]
     },
     "execution_count": 8,
     "metadata": {},
     "output_type": "execute_result"
    }
   ],
   "source": [
    "# Кроме деления, которое возвращает по умолчанию float\n",
    "35 / 5  # => 7.0"
   ]
  },
  {
   "cell_type": "code",
   "execution_count": 9,
   "metadata": {
    "collapsed": false
   },
   "outputs": [
    {
     "data": {
      "text/plain": [
       "-2.0"
      ]
     },
     "execution_count": 9,
     "metadata": {},
     "output_type": "execute_result"
    }
   ],
   "source": [
    "# Целочисленное деление всегда округляется вниз, для положительных и отрицательных чисел\n",
    "5 // 3       # => 1\n",
    "5.0 // 3.0   # => 1.0 \n",
    "-5 // 3      # => -2\n",
    "-5.0 // 3.0  # => -2.0"
   ]
  },
  {
   "cell_type": "code",
   "execution_count": 10,
   "metadata": {
    "collapsed": false
   },
   "outputs": [
    {
     "data": {
      "text/plain": [
       "6.0"
      ]
     },
     "execution_count": 10,
     "metadata": {},
     "output_type": "execute_result"
    }
   ],
   "source": [
    "# Если в выражении есть float, возвращается тоже float\n",
    "3 * 2.0  # => 6.0"
   ]
  },
  {
   "cell_type": "code",
   "execution_count": 11,
   "metadata": {
    "collapsed": false
   },
   "outputs": [
    {
     "data": {
      "text/plain": [
       "1"
      ]
     },
     "execution_count": 11,
     "metadata": {},
     "output_type": "execute_result"
    }
   ],
   "source": [
    "# Операция остатка\n",
    "7 % 3  # => 1"
   ]
  },
  {
   "cell_type": "code",
   "execution_count": 12,
   "metadata": {
    "collapsed": false
   },
   "outputs": [
    {
     "data": {
      "text/plain": [
       "16"
      ]
     },
     "execution_count": 12,
     "metadata": {},
     "output_type": "execute_result"
    }
   ],
   "source": [
    "# Возведение в степень\n",
    "2**4  # => 16"
   ]
  },
  {
   "cell_type": "code",
   "execution_count": 13,
   "metadata": {
    "collapsed": false
   },
   "outputs": [
    {
     "data": {
      "text/plain": [
       "8"
      ]
     },
     "execution_count": 13,
     "metadata": {},
     "output_type": "execute_result"
    }
   ],
   "source": [
    "# Скобки работают как обычно\n",
    "(1 + 3) * 2  # => 8"
   ]
  },
  {
   "cell_type": "code",
   "execution_count": 14,
   "metadata": {
    "collapsed": false
   },
   "outputs": [
    {
     "data": {
      "text/plain": [
       "False"
      ]
     },
     "execution_count": 14,
     "metadata": {},
     "output_type": "execute_result"
    }
   ],
   "source": [
    "# Булевые переменные (регистр!)\n",
    "True\n",
    "False"
   ]
  },
  {
   "cell_type": "code",
   "execution_count": 15,
   "metadata": {
    "collapsed": false
   },
   "outputs": [
    {
     "data": {
      "text/plain": [
       "True"
      ]
     },
     "execution_count": 15,
     "metadata": {},
     "output_type": "execute_result"
    }
   ],
   "source": [
    "# Для отрицания используем not\n",
    "not True   # => False\n",
    "not False  # => True"
   ]
  },
  {
   "cell_type": "code",
   "execution_count": 16,
   "metadata": {
    "collapsed": false
   },
   "outputs": [
    {
     "data": {
      "text/plain": [
       "True"
      ]
     },
     "execution_count": 16,
     "metadata": {},
     "output_type": "execute_result"
    }
   ],
   "source": [
    "# Булевы операции\n",
    "# \"and\" и \"or\" пишем в нижнем регистре\n",
    "True and False  # => False\n",
    "False or True   # => True"
   ]
  },
  {
   "cell_type": "code",
   "execution_count": 17,
   "metadata": {
    "collapsed": false
   },
   "outputs": [
    {
     "data": {
      "text/plain": [
       "True"
      ]
     },
     "execution_count": 17,
     "metadata": {},
     "output_type": "execute_result"
    }
   ],
   "source": [
    "# Смотрите, как булевы переменные ведут себя с целочисленными:\n",
    "0 and 2     # => 0\n",
    "-5 or 0     # => -5\n",
    "0 == False  # => True\n",
    "2 == True   # => False\n",
    "1 == True   # => True"
   ]
  },
  {
   "cell_type": "code",
   "execution_count": 18,
   "metadata": {
    "collapsed": false
   },
   "outputs": [
    {
     "data": {
      "text/plain": [
       "False"
      ]
     },
     "execution_count": 18,
     "metadata": {},
     "output_type": "execute_result"
    }
   ],
   "source": [
    "# Равенство обозначается ==\n",
    "1 == 1  # => True\n",
    "2 == 1  # => False"
   ]
  },
  {
   "cell_type": "code",
   "execution_count": 19,
   "metadata": {
    "collapsed": false
   },
   "outputs": [
    {
     "data": {
      "text/plain": [
       "True"
      ]
     },
     "execution_count": 19,
     "metadata": {},
     "output_type": "execute_result"
    }
   ],
   "source": [
    "# Неравенство это !=\n",
    "1 != 1  # => False\n",
    "2 != 1  # => True"
   ]
  },
  {
   "cell_type": "code",
   "execution_count": 20,
   "metadata": {
    "collapsed": false
   },
   "outputs": [
    {
     "data": {
      "text/plain": [
       "True"
      ]
     },
     "execution_count": 20,
     "metadata": {},
     "output_type": "execute_result"
    }
   ],
   "source": [
    "# Сравнения больше/меньше\n",
    "1 < 10  # => True\n",
    "1 > 10  # => False\n",
    "2 <= 2  # => True\n",
    "2 >= 2  # => True"
   ]
  },
  {
   "cell_type": "code",
   "execution_count": 21,
   "metadata": {
    "collapsed": false
   },
   "outputs": [
    {
     "data": {
      "text/plain": [
       "False"
      ]
     },
     "execution_count": 21,
     "metadata": {},
     "output_type": "execute_result"
    }
   ],
   "source": [
    "# Можно составлять из них цепочки (привет, си шарп!)\n",
    "1 < 2 < 3  # => True\n",
    "2 < 3 < 2  # => False"
   ]
  },
  {
   "cell_type": "code",
   "execution_count": 22,
   "metadata": {
    "collapsed": false
   },
   "outputs": [
    {
     "data": {
      "text/plain": [
       "True"
      ]
     },
     "execution_count": 22,
     "metadata": {},
     "output_type": "execute_result"
    }
   ],
   "source": [
    "# (is vs. ==) is проверяет, ссылаются ли переменные на один объект, а == проверяет\n",
    "# указывают ли объекты на одно значение (value)\n",
    "a = [1, 2, 3, 4]  # а указывает на новый лист, [1, 2, 3, 4]\n",
    "b = a             # b ссылается на тот же лист\n",
    "b is a            # => True\n",
    "b == a            # => True, их значения одинаковы\n",
    "b = [1, 2, 3, 4]  # b теперь указывает на новый лист, [1, 2, 3, 4]\n",
    "b is a            # => False\n",
    "b == a            # => True, их значения по-прежнему равны"
   ]
  },
  {
   "cell_type": "code",
   "execution_count": 23,
   "metadata": {
    "collapsed": false
   },
   "outputs": [
    {
     "data": {
      "text/plain": [
       "'Hello world!'"
      ]
     },
     "execution_count": 23,
     "metadata": {},
     "output_type": "execute_result"
    }
   ],
   "source": [
    "# Строки можно складывать\n",
    "\"Hello \" + \"world!\"  # => \"Hello world!\""
   ]
  },
  {
   "cell_type": "code",
   "execution_count": 24,
   "metadata": {
    "collapsed": false
   },
   "outputs": [
    {
     "data": {
      "text/plain": [
       "'T'"
      ]
     },
     "execution_count": 24,
     "metadata": {},
     "output_type": "execute_result"
    }
   ],
   "source": [
    "# К строке можно обращаться как к массиву символов\n",
    "\"This is a string\"[0]  # => 'T'"
   ]
  },
  {
   "cell_type": "code",
   "execution_count": 25,
   "metadata": {
    "collapsed": false
   },
   "outputs": [
    {
     "data": {
      "text/plain": [
       "16"
      ]
     },
     "execution_count": 25,
     "metadata": {},
     "output_type": "execute_result"
    }
   ],
   "source": [
    "# Так находим длину строки\n",
    "len(\"This is a string\")  # => 16"
   ]
  },
  {
   "cell_type": "code",
   "execution_count": 26,
   "metadata": {
    "collapsed": false
   },
   "outputs": [
    {
     "data": {
      "text/plain": [
       "'Malika is learning Python'"
      ]
     },
     "execution_count": 26,
     "metadata": {},
     "output_type": "execute_result"
    }
   ],
   "source": [
    "# .format используем для форматирования\n",
    "\"{} is learning {}\".format(\"Malika\", \"Python\")  \n",
    "# => \"Malika is learning Python\""
   ]
  },
  {
   "cell_type": "code",
   "execution_count": 27,
   "metadata": {
    "collapsed": false
   },
   "outputs": [
    {
     "data": {
      "text/plain": [
       "'Theodore loves pasta, and Cyril loves pasta'"
      ]
     },
     "execution_count": 27,
     "metadata": {},
     "output_type": "execute_result"
    }
   ],
   "source": [
    "# You can repeat the formatting arguments to save some typing.\n",
    "\"{0} loves {1}, and {2} loves {1}\".format(\"Theodore\", \"pasta\", \"Cyril\")\n",
    "# => \"Theodore loves pasta, and Cyril loves pasta\""
   ]
  },
  {
   "cell_type": "code",
   "execution_count": 28,
   "metadata": {
    "collapsed": false
   },
   "outputs": [
    {
     "data": {
      "text/plain": [
       "'Cyril wants to drink whisky'"
      ]
     },
     "execution_count": 28,
     "metadata": {},
     "output_type": "execute_result"
    }
   ],
   "source": [
    "# Если лень считать, можно юзать ключевые слова.\n",
    "\"{name} wants to drink {food}\".format(name=\"Cyril\", food=\"whisky\")  # => \"Cyril wants to drink whisky\""
   ]
  },
  {
   "cell_type": "code",
   "execution_count": 1,
   "metadata": {
    "collapsed": false
   },
   "outputs": [
    {
     "data": {
      "text/plain": [
       "False"
      ]
     },
     "execution_count": 1,
     "metadata": {},
     "output_type": "execute_result"
    }
   ],
   "source": [
    "# None, 0, и пустые строки/листы/словари эквивалентны False.\n",
    "# Все остальные — True\n",
    "bool(0)   # => False\n",
    "bool(\"\")  # => False\n",
    "bool([])  # => False\n",
    "bool({})  # => False"
   ]
  },
  {
   "cell_type": "code",
   "execution_count": 3,
   "metadata": {
    "collapsed": false
   },
   "outputs": [
    {
     "name": "stdout",
     "output_type": "stream",
     "text": [
      "True\n"
     ]
    }
   ],
   "source": [
    "# условный оператор\n",
    "\"\"\"\n",
    "Сначала записывается часть if с условным выражением, \n",
    "далее могут следовать одна или более необязательных частей elif, и, наконец, необязательная часть else.\n",
    "Общая форма записи условной инструкции if выглядит следующим образом:\n",
    "\"\"\"\n",
    "if 5 < 9 < 7:\n",
    "    print(False)\n",
    "elif 5 < 6 < 7:\n",
    "    print(True)\n",
    "else:\n",
    "    print(\"error\")"
   ]
  },
  {
   "cell_type": "code",
   "execution_count": 5,
   "metadata": {
    "collapsed": false
   },
   "outputs": [
    {
     "name": "stdout",
     "output_type": "stream",
     "text": [
      "True\n",
      "True\n"
     ]
    }
   ],
   "source": [
    "# Трехместное выражение if/else\n",
    "\n",
    "# Условная операция:\n",
    "A = False\n",
    "if True:\n",
    "    A = True\n",
    "else:\n",
    "    A = False\n",
    "print(A)\n",
    "\"\"\"\n",
    "довольно короткая, но, тем не менее, занимает целых 4 строки.\n",
    "Специально для таких случаев и было придумано выражение if/else:\n",
    "\"\"\"\n",
    "A = True if True else False\n",
    "print(A)"
   ]
  },
  {
   "cell_type": "code",
   "execution_count": 6,
   "metadata": {
    "collapsed": false
   },
   "outputs": [
    {
     "name": "stdout",
     "output_type": "stream",
     "text": [
      "5 7 9 11 13 "
     ]
    }
   ],
   "source": [
    "# циклы \n",
    "# вы уже наверняка встречались с циклами в других языках программирования поэтому просто рассмотрим синтаксис\n",
    "\"\"\"\n",
    "While - один из самых универсальных циклов в Python, поэтому довольно медленный.\n",
    "Выполняет тело цикла до тех пор, пока условие цикла истинно.\n",
    "\"\"\"\n",
    "i = 5\n",
    "while i < 15:\n",
    "    print(i, end = ' ')\n",
    "    i = i + 2"
   ]
  },
  {
   "cell_type": "code",
   "execution_count": 7,
   "metadata": {
    "collapsed": false
   },
   "outputs": [
    {
     "name": "stdout",
     "output_type": "stream",
     "text": [
      "hheelllloo  wwoorrlldd"
     ]
    }
   ],
   "source": [
    "\"\"\"\n",
    "Цикл for уже чуточку сложнее, чуть менее универсальный, \n",
    "но выполняется гораздо быстрее цикла while. Этот цикл проходится по любому итерируемому объекту\n",
    "(например строке или списку), и во время каждого прохода выполняет тело цикла.\n",
    "\"\"\"\n",
    "for i in 'hello world':\n",
    "    print(i * 2, end='')"
   ]
  },
  {
   "cell_type": "code",
   "execution_count": 8,
   "metadata": {
    "collapsed": false
   },
   "outputs": [
    {
     "name": "stdout",
     "output_type": "stream",
     "text": [
      "hheellll"
     ]
    }
   ],
   "source": [
    "# Оператор break досрочно прерывает цикл.\n",
    "for i in 'hello world':\n",
    "    if i == 'o':\n",
    "        break\n",
    "    print(i * 2, end='')"
   ]
  },
  {
   "cell_type": "code",
   "execution_count": 10,
   "metadata": {
    "collapsed": false
   },
   "outputs": [
    {
     "name": "stdout",
     "output_type": "stream",
     "text": [
      "Буквы a в строке нет\n"
     ]
    }
   ],
   "source": [
    "\"\"\"\n",
    "Слово else, примененное в цикле for или while, проверяет, \n",
    "был ли произведен выход из цикла инструкцией break, или же \"естественным\" образом.\n",
    "Блок инструкций внутри else выполнится только в том случае,\n",
    "если выход из цикла произошел без помощи break.\n",
    "\"\"\"\n",
    "for i in 'hello world':\n",
    "    if i == 'a':\n",
    "        break\n",
    "else:\n",
    "    print('Буквы a в строке нет')"
   ]
  },
  {
   "cell_type": "code",
   "execution_count": null,
   "metadata": {
    "collapsed": true
   },
   "outputs": [],
   "source": []
  }
 ],
 "metadata": {
  "anaconda-cloud": {},
  "kernelspec": {
   "display_name": "Python 3",
   "language": "python",
   "name": "python3"
  },
  "language_info": {
   "codemirror_mode": {
    "name": "ipython",
    "version": 3
   },
   "file_extension": ".py",
   "mimetype": "text/x-python",
   "name": "python",
   "nbconvert_exporter": "python",
   "pygments_lexer": "ipython3",
   "version": "3.5.2"
  }
 },
 "nbformat": 4,
 "nbformat_minor": 0
}
